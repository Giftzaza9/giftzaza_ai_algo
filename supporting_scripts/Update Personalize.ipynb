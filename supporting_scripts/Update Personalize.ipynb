{
 "cells": [
  {
   "cell_type": "markdown",
   "id": "517c67cc-1878-40e2-9344-1b55d3d2537a",
   "metadata": {},
   "source": [
    "pip install boto3"
   ]
  },
  {
   "cell_type": "code",
   "execution_count": 19,
   "id": "b9afdd46-b663-435f-a5aa-a37893ed0d32",
   "metadata": {},
   "outputs": [],
   "source": [
    "import boto3\n",
    "import os\n",
    "import re"
   ]
  },
  {
   "cell_type": "code",
   "execution_count": 2,
   "id": "379dc01d-7d6a-4b66-a479-35bee1c8c97c",
   "metadata": {},
   "outputs": [],
   "source": [
    "aws_access_key_id = \"xxxxxxxxxxxxxxxxx\"\n",
    "aws_secret_access_key = \"xxxxxxxxxxxxxxxxxxxxxxxxxxxxxxxxxxxxxxx\""
   ]
  },
  {
   "cell_type": "code",
   "execution_count": 4,
   "id": "08858121-79f8-46a5-a0cc-0c1e01251366",
   "metadata": {},
   "outputs": [],
   "source": [
    "def upload_csv_to_s3(bucket_name, file_path):\n",
    "    object_url = None\n",
    "    response = None\n",
    "    try:\n",
    "        if os.path.split(file_path)[1][-3:] != \"csv\":\n",
    "            raise Exception(\"Not a Valid File. Please upload the csv file only\")\n",
    "        with open(file_path,\"rb\") as fr:\n",
    "            bytes = fr.read()\n",
    "            s3_client = boto3.client('s3',\n",
    "                                     aws_access_key_id=aws_access_key_id,\n",
    "                                     aws_secret_access_key=aws_secret_access_key)\n",
    "            file_name = os.path.split(file_path)[1]\n",
    "            response = s3_client.put_object(Bucket=bucket_name, Key= file_name , Body=bytes)\n",
    "            object_url = \"s3://{}/{}\".format(bucket_name, file_name)\n",
    "            if response['ResponseMetadata']['HTTPStatusCode'] == 200:\n",
    "                print(\"File uploaded successfully!\",object_url)\n",
    "            else:\n",
    "                print(\"Failed to upload file.\") \n",
    "    except Exception as e:\n",
    "        print(e)\n",
    "    return object_url,response"
   ]
  },
  {
   "cell_type": "code",
   "execution_count": 5,
   "id": "61ab04fe-d745-4476-bae3-1239a15e3fac",
   "metadata": {},
   "outputs": [],
   "source": [
    "def upload_csv_to_s3(bucket_name, file_path):\n",
    "    object_url = None\n",
    "    try:\n",
    "        if os.path.split(file_path)[1][-3:] != \"csv\":\n",
    "            raise Exception(\"Not a Valid File. Please upload the csv file only\")\n",
    "        s3_client = boto3.client('s3',\n",
    "                                 aws_access_key_id=aws_access_key_id,\n",
    "                                 aws_secret_access_key=aws_secret_access_key)\n",
    "        file_name = os.path.split(file_path)[1]\n",
    "        s3_client.upload_file(file_path, bucket_name, file_name)\n",
    "        object_url = \"s3://{}/{}\".format(bucket_name, file_name)\n",
    "        print(\"File uploaded successfully!\",object_url)\n",
    "    except Exception as e:\n",
    "        print(e)\n",
    "    return object_url,None"
   ]
  },
  {
   "cell_type": "code",
   "execution_count": 6,
   "id": "96105984-23f6-4ae9-a9da-2d333a01743c",
   "metadata": {},
   "outputs": [
    {
     "name": "stdout",
     "output_type": "stream",
     "text": [
      "File uploaded successfully! s3://personalize-sampledatabucket-1/v1_item-meta-modified.csv\n",
      "File uploaded successfully! s3://personalize-sampledatabucket-1/v1_interactions.csv\n"
     ]
    }
   ],
   "source": [
    "bucket_name = \"personalize-sampledatabucket-1\"\n",
    "file_path_item = \"./Sample_Personalize_Data/item-meta-modified.csv\"\n",
    "file_path_interactions = \"./Sample_Personalize_Data/interactions.csv\"\n",
    "\n",
    "\n",
    "s3_path_item,_ = upload_csv_to_s3(bucket_name, file_path_item)\n",
    "s3_path_interactions,_ = upload_csv_to_s3(bucket_name, file_path_interactions)"
   ]
  },
  {
   "cell_type": "code",
   "execution_count": 7,
   "id": "73ab044a-ab12-40e8-8cfd-3410ee53e6e1",
   "metadata": {},
   "outputs": [
    {
     "name": "stdout",
     "output_type": "stream",
     "text": [
      "s3://personalize-sampledatabucket-1/v1_item-meta-modified.csv s3://personalize-sampledatabucket-1/v1_interactions.csv\n"
     ]
    }
   ],
   "source": [
    "print(s3_path_item,s3_path_interactions)"
   ]
  },
  {
   "cell_type": "code",
   "execution_count": 8,
   "id": "368bc858-5235-41eb-b421-8d47f9c76a80",
   "metadata": {},
   "outputs": [
    {
     "data": {
      "text/plain": [
       "'v1_item-meta-modified'"
      ]
     },
     "execution_count": 8,
     "metadata": {},
     "output_type": "execute_result"
    }
   ],
   "source": [
    "os.path.split(s3_path_item)[1][:-4]"
   ]
  },
  {
   "cell_type": "code",
   "execution_count": 9,
   "id": "0a67cec1-ba6d-4b2a-961d-09f9c1e0eb84",
   "metadata": {},
   "outputs": [],
   "source": [
    "def import_dataset_to_personalize(s3_path, datasetArn, region_name, mode = \"INCREMENTAL\"):\n",
    "    personalize = boto3.client('personalize',\n",
    "                               aws_access_key_id=aws_access_key_id,\n",
    "                               aws_secret_access_key=aws_secret_access_key,\n",
    "                               region_name=region_name)\n",
    "    \n",
    "    response = personalize.create_dataset_import_job(\n",
    "        jobName = \"import_job-\"+os.path.split(s3_path)[1][:-4],\n",
    "        datasetArn = datasetArn,\n",
    "        dataSource = {'dataLocation':s3_path},\n",
    "        roleArn = 'arn:aws:iam::973595392445:role/personalizerole-sampledatabucket-1',\n",
    "        importMode = mode\n",
    "    )\n",
    "    if response['ResponseMetadata']['HTTPStatusCode'] == 200:\n",
    "        print(\"import job created successfully!\")\n",
    "    else:\n",
    "        print(\"Failed to create import job.\") \n",
    "    return response"
   ]
  },
  {
   "cell_type": "code",
   "execution_count": 10,
   "id": "aa36c0cc-74db-4b7a-ab69-19d0b6c1d903",
   "metadata": {},
   "outputs": [
    {
     "name": "stdout",
     "output_type": "stream",
     "text": [
      "import job created successfully!\n"
     ]
    },
    {
     "data": {
      "text/plain": [
       "{'datasetImportJobArn': 'arn:aws:personalize:us-west-2:973595392445:dataset-import-job/import_job-v1_item-meta-modified',\n",
       " 'ResponseMetadata': {'RequestId': 'a7befaa4-8c61-4058-a063-54bcbf00f0a7',\n",
       "  'HTTPStatusCode': 200,\n",
       "  'HTTPHeaders': {'date': 'Wed, 17 Jan 2024 12:13:43 GMT',\n",
       "   'content-type': 'application/x-amz-json-1.1',\n",
       "   'content-length': '120',\n",
       "   'connection': 'keep-alive',\n",
       "   'x-amzn-requestid': 'a7befaa4-8c61-4058-a063-54bcbf00f0a7'},\n",
       "  'RetryAttempts': 0}}"
      ]
     },
     "execution_count": 10,
     "metadata": {},
     "output_type": "execute_result"
    }
   ],
   "source": [
    "datasetArn_items = 'arn:aws:personalize:us-west-2:973595392445:dataset/Giftzaza_Trail/ITEMS'\n",
    "import_dataset_to_personalize(s3_path_item,datasetArn_items,region_name = \"us-west-2\")"
   ]
  },
  {
   "cell_type": "code",
   "execution_count": 11,
   "id": "9d48af0f-6ce9-4425-8f57-8b7f885a6cd2",
   "metadata": {},
   "outputs": [
    {
     "name": "stdout",
     "output_type": "stream",
     "text": [
      "import job created successfully!\n"
     ]
    },
    {
     "data": {
      "text/plain": [
       "{'datasetImportJobArn': 'arn:aws:personalize:us-west-2:973595392445:dataset-import-job/import_job-v1_interactions',\n",
       " 'ResponseMetadata': {'RequestId': '072ef1c6-3752-49e5-a5db-e4521355f331',\n",
       "  'HTTPStatusCode': 200,\n",
       "  'HTTPHeaders': {'date': 'Wed, 17 Jan 2024 12:13:45 GMT',\n",
       "   'content-type': 'application/x-amz-json-1.1',\n",
       "   'content-length': '114',\n",
       "   'connection': 'keep-alive',\n",
       "   'x-amzn-requestid': '072ef1c6-3752-49e5-a5db-e4521355f331'},\n",
       "  'RetryAttempts': 0}}"
      ]
     },
     "execution_count": 11,
     "metadata": {},
     "output_type": "execute_result"
    }
   ],
   "source": [
    "datasetArn_interactions = 'arn:aws:personalize:us-west-2:973595392445:dataset/Giftzaza_Trail/INTERACTIONS'\n",
    "import_dataset_to_personalize(s3_path_interactions,datasetArn_interactions,region_name = \"us-west-2\")"
   ]
  },
  {
   "cell_type": "code",
   "execution_count": 12,
   "id": "839c0475-ae0c-4c6c-9892-e99b5b0f1e9d",
   "metadata": {},
   "outputs": [
    {
     "name": "stdout",
     "output_type": "stream",
     "text": [
      "CREATE IN_PROGRESS {'datasetImportJob': {'jobName': 'import_job-v1_interactions', 'datasetImportJobArn': 'arn:aws:personalize:us-west-2:973595392445:dataset-import-job/import_job-v1_interactions', 'datasetArn': 'arn:aws:personalize:us-west-2:973595392445:dataset/Giftzaza_Trail/INTERACTIONS', 'dataSource': {'dataLocation': 's3://personalize-sampledatabucket-1/v1_interactions.csv'}, 'roleArn': 'arn:aws:iam::973595392445:role/personalizerole-sampledatabucket-1', 'status': 'CREATE IN_PROGRESS', 'creationDateTime': datetime.datetime(2024, 1, 17, 17, 43, 45, 377000, tzinfo=tzlocal()), 'lastUpdatedDateTime': datetime.datetime(2024, 1, 17, 17, 44, 2, 977000, tzinfo=tzlocal()), 'importMode': 'INCREMENTAL', 'publishAttributionMetricsToS3': False}, 'ResponseMetadata': {'RequestId': '3e2be5a0-af55-453b-8849-5c1565aa5c7d', 'HTTPStatusCode': 200, 'HTTPHeaders': {'date': 'Wed, 17 Jan 2024 12:15:03 GMT', 'content-type': 'application/x-amz-json-1.1', 'content-length': '604', 'connection': 'keep-alive', 'x-amzn-requestid': '3e2be5a0-af55-453b-8849-5c1565aa5c7d'}, 'RetryAttempts': 0}}\n"
     ]
    }
   ],
   "source": [
    "personalize = boto3.client('personalize',\n",
    "                               aws_access_key_id=aws_access_key_id,\n",
    "                               aws_secret_access_key=aws_secret_access_key,\n",
    "                               region_name=\"us-west-2\")\n",
    "response = personalize.describe_dataset_import_job(\n",
    "    datasetImportJobArn='arn:aws:personalize:us-west-2:973595392445:dataset-import-job/import_job-v1_interactions'\n",
    ")\n",
    "print(response['datasetImportJob']['status'],response)"
   ]
  },
  {
   "cell_type": "code",
   "execution_count": 13,
   "id": "b796eb10-b9c3-4eae-bdf5-c3e9754caaa7",
   "metadata": {},
   "outputs": [],
   "source": [
    "def create_solution_version(solution_name,solutionArn,region_name,mode = 'UPDATE'):\n",
    "    personalize = boto3.client('personalize',\n",
    "                               aws_access_key_id=aws_access_key_id,\n",
    "                               aws_secret_access_key=aws_secret_access_key,\n",
    "                               region_name=region_name)\n",
    "    response = personalize.create_solution_version(\n",
    "    name=solution_name,\n",
    "    solutionArn=solutionArn,\n",
    "    trainingMode=mode\n",
    "    )\n",
    "    return response"
   ]
  },
  {
   "cell_type": "code",
   "execution_count": 14,
   "id": "92b72f50-be87-4ae9-ac6a-704812f577e0",
   "metadata": {},
   "outputs": [
    {
     "data": {
      "text/plain": [
       "{'solutionVersionArn': 'arn:aws:personalize:us-west-2:973595392445:solution/Personalize-UserSpecificRecommendation-1/solutionV1',\n",
       " 'ResponseMetadata': {'RequestId': '44c3774e-e174-4308-8198-f85edd26c206',\n",
       "  'HTTPStatusCode': 200,\n",
       "  'HTTPHeaders': {'date': 'Wed, 17 Jan 2024 12:21:24 GMT',\n",
       "   'content-type': 'application/x-amz-json-1.1',\n",
       "   'content-length': '128',\n",
       "   'connection': 'keep-alive',\n",
       "   'x-amzn-requestid': '44c3774e-e174-4308-8198-f85edd26c206'},\n",
       "  'RetryAttempts': 0}}"
      ]
     },
     "execution_count": 14,
     "metadata": {},
     "output_type": "execute_result"
    }
   ],
   "source": [
    "solution_name = \"solutionV1\"\n",
    "solutionArn = \"arn:aws:personalize:us-west-2:973595392445:solution/Personalize-UserSpecificRecommendation-1\"\n",
    "\n",
    "create_solution_version(solution_name,solutionArn,region_name = \"us-west-2\")"
   ]
  },
  {
   "cell_type": "code",
   "execution_count": 17,
   "id": "ad6019d2-bcdd-46f4-b317-1615f4642fe7",
   "metadata": {},
   "outputs": [
    {
     "name": "stdout",
     "output_type": "stream",
     "text": [
      "{'solutionVersion': {'name': 'Personalize-UserSpecificRecommendation-1/solutionV1', 'solutionVersionArn': 'arn:aws:personalize:us-west-2:973595392445:solution/Personalize-UserSpecificRecommendation-1/solutionV1', 'solutionArn': 'arn:aws:personalize:us-west-2:973595392445:solution/Personalize-UserSpecificRecommendation-1', 'performHPO': False, 'performAutoML': False, 'recipeArn': 'arn:aws:personalize:::recipe/aws-user-personalization', 'datasetGroupArn': 'arn:aws:personalize:us-west-2:973595392445:dataset-group/Giftzaza_Trail', 'solutionConfig': {'algorithmHyperParameters': {'bptt': '32', 'hidden_dimension': '149', 'recency_mask': 'true'}, 'featureTransformationParameters': {'max_user_history_length_percentile': '0.99', 'min_user_history_length_percentile': '0.00'}}, 'trainingMode': 'UPDATE', 'status': 'CREATE IN_PROGRESS', 'creationDateTime': datetime.datetime(2024, 1, 17, 17, 51, 24, 620000, tzinfo=tzlocal()), 'lastUpdatedDateTime': datetime.datetime(2024, 1, 17, 17, 51, 44, 659000, tzinfo=tzlocal())}, 'ResponseMetadata': {'RequestId': '90e3b300-0229-40aa-8758-eeb349a1c2b8', 'HTTPStatusCode': 200, 'HTTPHeaders': {'date': 'Wed, 17 Jan 2024 12:24:22 GMT', 'content-type': 'application/x-amz-json-1.1', 'content-length': '904', 'connection': 'keep-alive', 'x-amzn-requestid': '90e3b300-0229-40aa-8758-eeb349a1c2b8'}, 'RetryAttempts': 0}}\n"
     ]
    }
   ],
   "source": [
    "personalize = boto3.client('personalize',\n",
    "                               aws_access_key_id=aws_access_key_id,\n",
    "                               aws_secret_access_key=aws_secret_access_key,\n",
    "                               region_name=\"us-west-2\")\n",
    "response = personalize.describe_solution_version(\n",
    "    solutionVersionArn='arn:aws:personalize:us-west-2:973595392445:solution/Personalize-UserSpecificRecommendation-1/solutionV1'\n",
    ")\n",
    "print(response)"
   ]
  },
  {
   "cell_type": "code",
   "execution_count": 18,
   "id": "214d8ead-ef66-4637-911e-c96f2e8b1804",
   "metadata": {},
   "outputs": [],
   "source": [
    "def Update_campaign(campaignArn,solutionVersionArn,region_name,minProvisionedTPS=1):\n",
    "    personalize = boto3.client('personalize',\n",
    "                               aws_access_key_id=aws_access_key_id,\n",
    "                               aws_secret_access_key=aws_secret_access_key,\n",
    "                               region_name=region_name)\n",
    "    response = personalize.update_campaign(\n",
    "        campaignArn=campaignArn,\n",
    "        solutionVersionArn=solutionVersionArn,\n",
    "        minProvisionedTPS=1\n",
    "    )\n",
    "    return response"
   ]
  },
  {
   "cell_type": "code",
   "execution_count": 19,
   "id": "32b3a17d-e431-454c-ad17-473a02e17403",
   "metadata": {},
   "outputs": [],
   "source": [
    "campaignArn = \"arn:aws:personalize:us-west-2:973595392445:campaign/Personalize-UserSpecificRecommendation-Camp1\"\n",
    "new_solutionVersionArn = 'arn:aws:personalize:us-west-2:973595392445:solution/Personalize-UserSpecificRecommendation-1/solutionV1'"
   ]
  },
  {
   "cell_type": "code",
   "execution_count": 20,
   "id": "8216250e-4ab3-465d-84e8-1c0a96ac5514",
   "metadata": {},
   "outputs": [
    {
     "data": {
      "text/plain": [
       "{'campaignArn': 'arn:aws:personalize:us-west-2:973595392445:campaign/Personalize-UserSpecificRecommendation-Camp1',\n",
       " 'ResponseMetadata': {'RequestId': 'bafac56a-c4be-4df1-bf48-c06244ecee2d',\n",
       "  'HTTPStatusCode': 200,\n",
       "  'HTTPHeaders': {'date': 'Wed, 17 Jan 2024 12:33:42 GMT',\n",
       "   'content-type': 'application/x-amz-json-1.1',\n",
       "   'content-length': '114',\n",
       "   'connection': 'keep-alive',\n",
       "   'x-amzn-requestid': 'bafac56a-c4be-4df1-bf48-c06244ecee2d'},\n",
       "  'RetryAttempts': 0}}"
      ]
     },
     "execution_count": 20,
     "metadata": {},
     "output_type": "execute_result"
    }
   ],
   "source": [
    "Update_campaign(campaignArn,new_solutionVersionArn,region_name=\"us-west-2\")"
   ]
  },
  {
   "cell_type": "code",
   "execution_count": 3,
   "id": "1a4fc605-b1bf-4f18-a546-37f52ba93d1a",
   "metadata": {},
   "outputs": [],
   "source": [
    "def get_solution_metrics(solutionVersionArn):\n",
    "    personalize = boto3.client('personalize',\n",
    "                               aws_access_key_id=aws_access_key_id,\n",
    "                               aws_secret_access_key=aws_secret_access_key,\n",
    "                               region_name=\"us-west-2\")\n",
    "    response = personalize.get_solution_metrics(\n",
    "        solutionVersionArn= solutionVersionArn\n",
    "    )\n",
    "    return response"
   ]
  },
  {
   "cell_type": "code",
   "execution_count": 9,
   "id": "26b5d4ae-1ab5-45bf-beab-ce3d71aba4d7",
   "metadata": {},
   "outputs": [],
   "source": [
    "new_solutionVersionArn = 'arn:aws:personalize:us-west-2:973595392445:solution/Personalize-UserSpecificRecommendation-1/solutionV1'"
   ]
  },
  {
   "cell_type": "code",
   "execution_count": 10,
   "id": "eec8fdb5-1662-4ffc-b3fd-474adf69a88f",
   "metadata": {},
   "outputs": [],
   "source": [
    "sol_m1 = get_solution_metrics(new_solutionVersionArn)"
   ]
  },
  {
   "cell_type": "code",
   "execution_count": 11,
   "id": "53821162-66e6-40b4-b3f4-6c601ef6a406",
   "metadata": {},
   "outputs": [
    {
     "data": {
      "text/plain": [
       "{'solutionVersionArn': 'arn:aws:personalize:us-west-2:973595392445:solution/Personalize-UserSpecificRecommendation-1/solutionV1',\n",
       " 'metrics': {'coverage': 0.0772,\n",
       "  'mean_reciprocal_rank_at_25': 0.2094,\n",
       "  'normalized_discounted_cumulative_gain_at_10': 0.216,\n",
       "  'normalized_discounted_cumulative_gain_at_25': 0.2828,\n",
       "  'normalized_discounted_cumulative_gain_at_5': 0.1735,\n",
       "  'precision_at_10': 0.0375,\n",
       "  'precision_at_25': 0.0286,\n",
       "  'precision_at_5': 0.0464},\n",
       " 'ResponseMetadata': {'RequestId': '49692605-ecbc-4da7-a783-239e9ded4669',\n",
       "  'HTTPStatusCode': 200,\n",
       "  'HTTPHeaders': {'date': 'Mon, 22 Jan 2024 05:55:56 GMT',\n",
       "   'content-type': 'application/x-amz-json-1.1',\n",
       "   'content-length': '425',\n",
       "   'connection': 'keep-alive',\n",
       "   'x-amzn-requestid': '49692605-ecbc-4da7-a783-239e9ded4669'},\n",
       "  'RetryAttempts': 0}}"
      ]
     },
     "execution_count": 11,
     "metadata": {},
     "output_type": "execute_result"
    }
   ],
   "source": [
    "sol_m1"
   ]
  },
  {
   "cell_type": "code",
   "execution_count": 12,
   "id": "af7c565a-f7b2-4737-bc0d-95fdcfb1048d",
   "metadata": {},
   "outputs": [],
   "source": [
    "sol_m2 = get_solution_metrics(\"arn:aws:personalize:us-west-2:973595392445:solution/Personalize-UserSpecificRecommendation-1/Personalize-UserSpecificRecommendation-1\")"
   ]
  },
  {
   "cell_type": "code",
   "execution_count": 13,
   "id": "9dd6e31f-7f20-4531-81ce-ddf151af1d96",
   "metadata": {},
   "outputs": [
    {
     "data": {
      "text/plain": [
       "{'solutionVersionArn': 'arn:aws:personalize:us-west-2:973595392445:solution/Personalize-UserSpecificRecommendation-1/Personalize-UserSpecificRecommendation-1',\n",
       " 'metrics': {'coverage': 0.0776,\n",
       "  'mean_reciprocal_rank_at_25': 0.2097,\n",
       "  'normalized_discounted_cumulative_gain_at_10': 0.2147,\n",
       "  'normalized_discounted_cumulative_gain_at_25': 0.2863,\n",
       "  'normalized_discounted_cumulative_gain_at_5': 0.1773,\n",
       "  'precision_at_10': 0.0357,\n",
       "  'precision_at_25': 0.0293,\n",
       "  'precision_at_5': 0.0464},\n",
       " 'ResponseMetadata': {'RequestId': '79b613f6-3392-44c0-ab7c-10e3a42027f9',\n",
       "  'HTTPStatusCode': 200,\n",
       "  'HTTPHeaders': {'date': 'Mon, 22 Jan 2024 05:56:02 GMT',\n",
       "   'content-type': 'application/x-amz-json-1.1',\n",
       "   'content-length': '456',\n",
       "   'connection': 'keep-alive',\n",
       "   'x-amzn-requestid': '79b613f6-3392-44c0-ab7c-10e3a42027f9'},\n",
       "  'RetryAttempts': 0}}"
      ]
     },
     "execution_count": 13,
     "metadata": {},
     "output_type": "execute_result"
    }
   ],
   "source": [
    "sol_m2"
   ]
  },
  {
   "cell_type": "code",
   "execution_count": 53,
   "id": "f45d442c-2201-4da2-9524-29ea60237cee",
   "metadata": {},
   "outputs": [],
   "source": [
    "def CompareMetrics(old_solm,new_solm):\n",
    "    flag = True\n",
    "    for key,value in new_solm.items():\n",
    "        if re.search(\"^precision.*\",key):\n",
    "            delta = round(new_solm[key]-old_solm[key],3)\n",
    "            if delta < 0:\n",
    "                print(key,delta)\n",
    "                flag = False\n",
    "    return flag"
   ]
  },
  {
   "cell_type": "code",
   "execution_count": 54,
   "id": "811bdf1c-de97-43c9-92de-9a1bde246a52",
   "metadata": {},
   "outputs": [
    {
     "name": "stdout",
     "output_type": "stream",
     "text": [
      "precision_at_25 -0.001\n"
     ]
    },
    {
     "data": {
      "text/plain": [
       "False"
      ]
     },
     "execution_count": 54,
     "metadata": {},
     "output_type": "execute_result"
    }
   ],
   "source": [
    "CompareMetrics(sol_m2['metrics'],sol_m1['metrics'])"
   ]
  },
  {
   "cell_type": "code",
   "execution_count": null,
   "id": "b089275e-3775-448b-8706-0971295f13f2",
   "metadata": {},
   "outputs": [],
   "source": []
  },
  {
   "cell_type": "code",
   "execution_count": null,
   "id": "a8953ffc-9c23-488d-ba6a-37b866f9b0ba",
   "metadata": {},
   "outputs": [],
   "source": []
  },
  {
   "cell_type": "code",
   "execution_count": null,
   "id": "0424a4af-c020-403d-b1ba-e5f16269f73f",
   "metadata": {},
   "outputs": [],
   "source": []
  }
 ],
 "metadata": {
  "kernelspec": {
   "display_name": "Python 3 (ipykernel)",
   "language": "python",
   "name": "python3"
  },
  "language_info": {
   "codemirror_mode": {
    "name": "ipython",
    "version": 3
   },
   "file_extension": ".py",
   "mimetype": "text/x-python",
   "name": "python",
   "nbconvert_exporter": "python",
   "pygments_lexer": "ipython3",
   "version": "3.10.11"
  }
 },
 "nbformat": 4,
 "nbformat_minor": 5
}
